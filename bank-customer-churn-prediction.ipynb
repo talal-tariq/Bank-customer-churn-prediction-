{
 "cells": [
  {
   "cell_type": "code",
   "execution_count": 1,
   "id": "5fb7ec8f",
   "metadata": {
    "execution": {
     "iopub.execute_input": "2023-10-20T06:29:18.036294Z",
     "iopub.status.busy": "2023-10-20T06:29:18.036024Z",
     "iopub.status.idle": "2023-10-20T06:29:19.767454Z",
     "shell.execute_reply": "2023-10-20T06:29:19.766817Z"
    },
    "id": "0aI-0NfEEZsr",
    "papermill": {
     "duration": 1.740888,
     "end_time": "2023-10-20T06:29:19.769469",
     "exception": false,
     "start_time": "2023-10-20T06:29:18.028581",
     "status": "completed"
    },
    "tags": []
   },
   "outputs": [
    {
     "name": "stderr",
     "output_type": "stream",
     "text": [
      "/opt/conda/lib/python3.10/site-packages/scipy/__init__.py:146: UserWarning: A NumPy version >=1.16.5 and <1.23.0 is required for this version of SciPy (detected version 1.23.5\n",
      "  warnings.warn(f\"A NumPy version >={np_minversion} and <{np_maxversion}\"\n"
     ]
    }
   ],
   "source": [
    "import numpy as np\n",
    "import pandas as pd\n",
    "import sklearn\n",
    "import matplotlib.pyplot as plt\n",
    "import seaborn as sns"
   ]
  },
  {
   "cell_type": "code",
   "execution_count": 2,
   "id": "372b0577",
   "metadata": {
    "execution": {
     "iopub.execute_input": "2023-10-20T06:29:19.782911Z",
     "iopub.status.busy": "2023-10-20T06:29:19.782571Z",
     "iopub.status.idle": "2023-10-20T06:29:19.845334Z",
     "shell.execute_reply": "2023-10-20T06:29:19.844565Z"
    },
    "id": "ugJTYWgiSIyS",
    "outputId": "105f94a2-5c9d-4c3b-eed5-a39fe5ad534d",
    "papermill": {
     "duration": 0.071267,
     "end_time": "2023-10-20T06:29:19.847218",
     "exception": false,
     "start_time": "2023-10-20T06:29:19.775951",
     "status": "completed"
    },
    "tags": []
   },
   "outputs": [
    {
     "data": {
      "text/html": [
       "<div>\n",
       "<style scoped>\n",
       "    .dataframe tbody tr th:only-of-type {\n",
       "        vertical-align: middle;\n",
       "    }\n",
       "\n",
       "    .dataframe tbody tr th {\n",
       "        vertical-align: top;\n",
       "    }\n",
       "\n",
       "    .dataframe thead th {\n",
       "        text-align: right;\n",
       "    }\n",
       "</style>\n",
       "<table border=\"1\" class=\"dataframe\">\n",
       "  <thead>\n",
       "    <tr style=\"text-align: right;\">\n",
       "      <th></th>\n",
       "      <th>RowNumber</th>\n",
       "      <th>CustomerId</th>\n",
       "      <th>Surname</th>\n",
       "      <th>CreditScore</th>\n",
       "      <th>Geography</th>\n",
       "      <th>Gender</th>\n",
       "      <th>Age</th>\n",
       "      <th>Tenure</th>\n",
       "      <th>Balance</th>\n",
       "      <th>NumOfProducts</th>\n",
       "      <th>HasCrCard</th>\n",
       "      <th>IsActiveMember</th>\n",
       "      <th>EstimatedSalary</th>\n",
       "      <th>Exited</th>\n",
       "    </tr>\n",
       "  </thead>\n",
       "  <tbody>\n",
       "    <tr>\n",
       "      <th>0</th>\n",
       "      <td>1</td>\n",
       "      <td>15634602</td>\n",
       "      <td>Hargrave</td>\n",
       "      <td>619</td>\n",
       "      <td>France</td>\n",
       "      <td>Female</td>\n",
       "      <td>42</td>\n",
       "      <td>2</td>\n",
       "      <td>0.00</td>\n",
       "      <td>1</td>\n",
       "      <td>1</td>\n",
       "      <td>1</td>\n",
       "      <td>101348.88</td>\n",
       "      <td>1</td>\n",
       "    </tr>\n",
       "    <tr>\n",
       "      <th>1</th>\n",
       "      <td>2</td>\n",
       "      <td>15647311</td>\n",
       "      <td>Hill</td>\n",
       "      <td>608</td>\n",
       "      <td>Spain</td>\n",
       "      <td>Female</td>\n",
       "      <td>41</td>\n",
       "      <td>1</td>\n",
       "      <td>83807.86</td>\n",
       "      <td>1</td>\n",
       "      <td>0</td>\n",
       "      <td>1</td>\n",
       "      <td>112542.58</td>\n",
       "      <td>0</td>\n",
       "    </tr>\n",
       "    <tr>\n",
       "      <th>2</th>\n",
       "      <td>3</td>\n",
       "      <td>15619304</td>\n",
       "      <td>Onio</td>\n",
       "      <td>502</td>\n",
       "      <td>France</td>\n",
       "      <td>Female</td>\n",
       "      <td>42</td>\n",
       "      <td>8</td>\n",
       "      <td>159660.80</td>\n",
       "      <td>3</td>\n",
       "      <td>1</td>\n",
       "      <td>0</td>\n",
       "      <td>113931.57</td>\n",
       "      <td>1</td>\n",
       "    </tr>\n",
       "    <tr>\n",
       "      <th>3</th>\n",
       "      <td>4</td>\n",
       "      <td>15701354</td>\n",
       "      <td>Boni</td>\n",
       "      <td>699</td>\n",
       "      <td>France</td>\n",
       "      <td>Female</td>\n",
       "      <td>39</td>\n",
       "      <td>1</td>\n",
       "      <td>0.00</td>\n",
       "      <td>2</td>\n",
       "      <td>0</td>\n",
       "      <td>0</td>\n",
       "      <td>93826.63</td>\n",
       "      <td>0</td>\n",
       "    </tr>\n",
       "    <tr>\n",
       "      <th>4</th>\n",
       "      <td>5</td>\n",
       "      <td>15737888</td>\n",
       "      <td>Mitchell</td>\n",
       "      <td>850</td>\n",
       "      <td>Spain</td>\n",
       "      <td>Female</td>\n",
       "      <td>43</td>\n",
       "      <td>2</td>\n",
       "      <td>125510.82</td>\n",
       "      <td>1</td>\n",
       "      <td>1</td>\n",
       "      <td>1</td>\n",
       "      <td>79084.10</td>\n",
       "      <td>0</td>\n",
       "    </tr>\n",
       "  </tbody>\n",
       "</table>\n",
       "</div>"
      ],
      "text/plain": [
       "   RowNumber  CustomerId   Surname  CreditScore Geography  Gender  Age  \\\n",
       "0          1    15634602  Hargrave          619    France  Female   42   \n",
       "1          2    15647311      Hill          608     Spain  Female   41   \n",
       "2          3    15619304      Onio          502    France  Female   42   \n",
       "3          4    15701354      Boni          699    France  Female   39   \n",
       "4          5    15737888  Mitchell          850     Spain  Female   43   \n",
       "\n",
       "   Tenure    Balance  NumOfProducts  HasCrCard  IsActiveMember  \\\n",
       "0       2       0.00              1          1               1   \n",
       "1       1   83807.86              1          0               1   \n",
       "2       8  159660.80              3          1               0   \n",
       "3       1       0.00              2          0               0   \n",
       "4       2  125510.82              1          1               1   \n",
       "\n",
       "   EstimatedSalary  Exited  \n",
       "0        101348.88       1  \n",
       "1        112542.58       0  \n",
       "2        113931.57       1  \n",
       "3         93826.63       0  \n",
       "4         79084.10       0  "
      ]
     },
     "execution_count": 2,
     "metadata": {},
     "output_type": "execute_result"
    }
   ],
   "source": [
    "churn=pd.read_csv('/kaggle/input/bank-customer-churn-prediction/Churn_Modelling.csv')\n",
    "df=pd.DataFrame(churn)\n",
    "df.head()"
   ]
  },
  {
   "cell_type": "code",
   "execution_count": 3,
   "id": "86657f52",
   "metadata": {
    "execution": {
     "iopub.execute_input": "2023-10-20T06:29:19.860202Z",
     "iopub.status.busy": "2023-10-20T06:29:19.859964Z",
     "iopub.status.idle": "2023-10-20T06:29:19.864831Z",
     "shell.execute_reply": "2023-10-20T06:29:19.864008Z"
    },
    "id": "9w8Y3UHASt9z",
    "outputId": "1e108ad8-f727-4d84-a44c-694c3d3ef7ab",
    "papermill": {
     "duration": 0.012964,
     "end_time": "2023-10-20T06:29:19.866353",
     "exception": false,
     "start_time": "2023-10-20T06:29:19.853389",
     "status": "completed"
    },
    "tags": []
   },
   "outputs": [
    {
     "data": {
      "text/plain": [
       "(10000, 14)"
      ]
     },
     "execution_count": 3,
     "metadata": {},
     "output_type": "execute_result"
    }
   ],
   "source": [
    "df.shape"
   ]
  },
  {
   "cell_type": "code",
   "execution_count": 4,
   "id": "384552e2",
   "metadata": {
    "execution": {
     "iopub.execute_input": "2023-10-20T06:29:19.878983Z",
     "iopub.status.busy": "2023-10-20T06:29:19.878756Z",
     "iopub.status.idle": "2023-10-20T06:29:19.901343Z",
     "shell.execute_reply": "2023-10-20T06:29:19.900510Z"
    },
    "id": "RrB1RMGuTQbW",
    "outputId": "1d5ebd9c-f5ae-4857-d637-11558791799b",
    "papermill": {
     "duration": 0.030783,
     "end_time": "2023-10-20T06:29:19.902998",
     "exception": false,
     "start_time": "2023-10-20T06:29:19.872215",
     "status": "completed"
    },
    "tags": []
   },
   "outputs": [
    {
     "name": "stdout",
     "output_type": "stream",
     "text": [
      "<class 'pandas.core.frame.DataFrame'>\n",
      "RangeIndex: 10000 entries, 0 to 9999\n",
      "Data columns (total 14 columns):\n",
      " #   Column           Non-Null Count  Dtype  \n",
      "---  ------           --------------  -----  \n",
      " 0   RowNumber        10000 non-null  int64  \n",
      " 1   CustomerId       10000 non-null  int64  \n",
      " 2   Surname          10000 non-null  object \n",
      " 3   CreditScore      10000 non-null  int64  \n",
      " 4   Geography        10000 non-null  object \n",
      " 5   Gender           10000 non-null  object \n",
      " 6   Age              10000 non-null  int64  \n",
      " 7   Tenure           10000 non-null  int64  \n",
      " 8   Balance          10000 non-null  float64\n",
      " 9   NumOfProducts    10000 non-null  int64  \n",
      " 10  HasCrCard        10000 non-null  int64  \n",
      " 11  IsActiveMember   10000 non-null  int64  \n",
      " 12  EstimatedSalary  10000 non-null  float64\n",
      " 13  Exited           10000 non-null  int64  \n",
      "dtypes: float64(2), int64(9), object(3)\n",
      "memory usage: 1.1+ MB\n"
     ]
    }
   ],
   "source": [
    "df.info()"
   ]
  },
  {
   "cell_type": "code",
   "execution_count": 5,
   "id": "4026bd49",
   "metadata": {
    "execution": {
     "iopub.execute_input": "2023-10-20T06:29:19.916028Z",
     "iopub.status.busy": "2023-10-20T06:29:19.915809Z",
     "iopub.status.idle": "2023-10-20T06:29:19.952220Z",
     "shell.execute_reply": "2023-10-20T06:29:19.951430Z"
    },
    "id": "bKSpMcZPagvK",
    "outputId": "ef81d7a3-d4b3-4a2e-d78d-8fc69173426d",
    "papermill": {
     "duration": 0.044754,
     "end_time": "2023-10-20T06:29:19.953816",
     "exception": false,
     "start_time": "2023-10-20T06:29:19.909062",
     "status": "completed"
    },
    "tags": []
   },
   "outputs": [
    {
     "data": {
      "text/html": [
       "<div>\n",
       "<style scoped>\n",
       "    .dataframe tbody tr th:only-of-type {\n",
       "        vertical-align: middle;\n",
       "    }\n",
       "\n",
       "    .dataframe tbody tr th {\n",
       "        vertical-align: top;\n",
       "    }\n",
       "\n",
       "    .dataframe thead th {\n",
       "        text-align: right;\n",
       "    }\n",
       "</style>\n",
       "<table border=\"1\" class=\"dataframe\">\n",
       "  <thead>\n",
       "    <tr style=\"text-align: right;\">\n",
       "      <th></th>\n",
       "      <th>RowNumber</th>\n",
       "      <th>CustomerId</th>\n",
       "      <th>CreditScore</th>\n",
       "      <th>Age</th>\n",
       "      <th>Tenure</th>\n",
       "      <th>Balance</th>\n",
       "      <th>NumOfProducts</th>\n",
       "      <th>HasCrCard</th>\n",
       "      <th>IsActiveMember</th>\n",
       "      <th>EstimatedSalary</th>\n",
       "      <th>Exited</th>\n",
       "    </tr>\n",
       "  </thead>\n",
       "  <tbody>\n",
       "    <tr>\n",
       "      <th>count</th>\n",
       "      <td>10000.00000</td>\n",
       "      <td>1.000000e+04</td>\n",
       "      <td>10000.000000</td>\n",
       "      <td>10000.000000</td>\n",
       "      <td>10000.000000</td>\n",
       "      <td>10000.000000</td>\n",
       "      <td>10000.000000</td>\n",
       "      <td>10000.00000</td>\n",
       "      <td>10000.000000</td>\n",
       "      <td>10000.000000</td>\n",
       "      <td>10000.000000</td>\n",
       "    </tr>\n",
       "    <tr>\n",
       "      <th>mean</th>\n",
       "      <td>5000.50000</td>\n",
       "      <td>1.569094e+07</td>\n",
       "      <td>650.528800</td>\n",
       "      <td>38.921800</td>\n",
       "      <td>5.012800</td>\n",
       "      <td>76485.889288</td>\n",
       "      <td>1.530200</td>\n",
       "      <td>0.70550</td>\n",
       "      <td>0.515100</td>\n",
       "      <td>100090.239881</td>\n",
       "      <td>0.203700</td>\n",
       "    </tr>\n",
       "    <tr>\n",
       "      <th>std</th>\n",
       "      <td>2886.89568</td>\n",
       "      <td>7.193619e+04</td>\n",
       "      <td>96.653299</td>\n",
       "      <td>10.487806</td>\n",
       "      <td>2.892174</td>\n",
       "      <td>62397.405202</td>\n",
       "      <td>0.581654</td>\n",
       "      <td>0.45584</td>\n",
       "      <td>0.499797</td>\n",
       "      <td>57510.492818</td>\n",
       "      <td>0.402769</td>\n",
       "    </tr>\n",
       "    <tr>\n",
       "      <th>min</th>\n",
       "      <td>1.00000</td>\n",
       "      <td>1.556570e+07</td>\n",
       "      <td>350.000000</td>\n",
       "      <td>18.000000</td>\n",
       "      <td>0.000000</td>\n",
       "      <td>0.000000</td>\n",
       "      <td>1.000000</td>\n",
       "      <td>0.00000</td>\n",
       "      <td>0.000000</td>\n",
       "      <td>11.580000</td>\n",
       "      <td>0.000000</td>\n",
       "    </tr>\n",
       "    <tr>\n",
       "      <th>25%</th>\n",
       "      <td>2500.75000</td>\n",
       "      <td>1.562853e+07</td>\n",
       "      <td>584.000000</td>\n",
       "      <td>32.000000</td>\n",
       "      <td>3.000000</td>\n",
       "      <td>0.000000</td>\n",
       "      <td>1.000000</td>\n",
       "      <td>0.00000</td>\n",
       "      <td>0.000000</td>\n",
       "      <td>51002.110000</td>\n",
       "      <td>0.000000</td>\n",
       "    </tr>\n",
       "    <tr>\n",
       "      <th>50%</th>\n",
       "      <td>5000.50000</td>\n",
       "      <td>1.569074e+07</td>\n",
       "      <td>652.000000</td>\n",
       "      <td>37.000000</td>\n",
       "      <td>5.000000</td>\n",
       "      <td>97198.540000</td>\n",
       "      <td>1.000000</td>\n",
       "      <td>1.00000</td>\n",
       "      <td>1.000000</td>\n",
       "      <td>100193.915000</td>\n",
       "      <td>0.000000</td>\n",
       "    </tr>\n",
       "    <tr>\n",
       "      <th>75%</th>\n",
       "      <td>7500.25000</td>\n",
       "      <td>1.575323e+07</td>\n",
       "      <td>718.000000</td>\n",
       "      <td>44.000000</td>\n",
       "      <td>7.000000</td>\n",
       "      <td>127644.240000</td>\n",
       "      <td>2.000000</td>\n",
       "      <td>1.00000</td>\n",
       "      <td>1.000000</td>\n",
       "      <td>149388.247500</td>\n",
       "      <td>0.000000</td>\n",
       "    </tr>\n",
       "    <tr>\n",
       "      <th>max</th>\n",
       "      <td>10000.00000</td>\n",
       "      <td>1.581569e+07</td>\n",
       "      <td>850.000000</td>\n",
       "      <td>92.000000</td>\n",
       "      <td>10.000000</td>\n",
       "      <td>250898.090000</td>\n",
       "      <td>4.000000</td>\n",
       "      <td>1.00000</td>\n",
       "      <td>1.000000</td>\n",
       "      <td>199992.480000</td>\n",
       "      <td>1.000000</td>\n",
       "    </tr>\n",
       "  </tbody>\n",
       "</table>\n",
       "</div>"
      ],
      "text/plain": [
       "         RowNumber    CustomerId   CreditScore           Age        Tenure  \\\n",
       "count  10000.00000  1.000000e+04  10000.000000  10000.000000  10000.000000   \n",
       "mean    5000.50000  1.569094e+07    650.528800     38.921800      5.012800   \n",
       "std     2886.89568  7.193619e+04     96.653299     10.487806      2.892174   \n",
       "min        1.00000  1.556570e+07    350.000000     18.000000      0.000000   \n",
       "25%     2500.75000  1.562853e+07    584.000000     32.000000      3.000000   \n",
       "50%     5000.50000  1.569074e+07    652.000000     37.000000      5.000000   \n",
       "75%     7500.25000  1.575323e+07    718.000000     44.000000      7.000000   \n",
       "max    10000.00000  1.581569e+07    850.000000     92.000000     10.000000   \n",
       "\n",
       "             Balance  NumOfProducts    HasCrCard  IsActiveMember  \\\n",
       "count   10000.000000   10000.000000  10000.00000    10000.000000   \n",
       "mean    76485.889288       1.530200      0.70550        0.515100   \n",
       "std     62397.405202       0.581654      0.45584        0.499797   \n",
       "min         0.000000       1.000000      0.00000        0.000000   \n",
       "25%         0.000000       1.000000      0.00000        0.000000   \n",
       "50%     97198.540000       1.000000      1.00000        1.000000   \n",
       "75%    127644.240000       2.000000      1.00000        1.000000   \n",
       "max    250898.090000       4.000000      1.00000        1.000000   \n",
       "\n",
       "       EstimatedSalary        Exited  \n",
       "count     10000.000000  10000.000000  \n",
       "mean     100090.239881      0.203700  \n",
       "std       57510.492818      0.402769  \n",
       "min          11.580000      0.000000  \n",
       "25%       51002.110000      0.000000  \n",
       "50%      100193.915000      0.000000  \n",
       "75%      149388.247500      0.000000  \n",
       "max      199992.480000      1.000000  "
      ]
     },
     "execution_count": 5,
     "metadata": {},
     "output_type": "execute_result"
    }
   ],
   "source": [
    "df.describe()"
   ]
  },
  {
   "cell_type": "code",
   "execution_count": 6,
   "id": "465eaee8",
   "metadata": {
    "execution": {
     "iopub.execute_input": "2023-10-20T06:29:19.967922Z",
     "iopub.status.busy": "2023-10-20T06:29:19.967244Z",
     "iopub.status.idle": "2023-10-20T06:29:19.975053Z",
     "shell.execute_reply": "2023-10-20T06:29:19.974372Z"
    },
    "id": "qDEU4zz0a13p",
    "outputId": "822f9372-80f8-4e2f-9d72-1d214ec0bbf3",
    "papermill": {
     "duration": 0.016527,
     "end_time": "2023-10-20T06:29:19.976581",
     "exception": false,
     "start_time": "2023-10-20T06:29:19.960054",
     "status": "completed"
    },
    "tags": []
   },
   "outputs": [
    {
     "data": {
      "text/plain": [
       "RowNumber          0\n",
       "CustomerId         0\n",
       "Surname            0\n",
       "CreditScore        0\n",
       "Geography          0\n",
       "Gender             0\n",
       "Age                0\n",
       "Tenure             0\n",
       "Balance            0\n",
       "NumOfProducts      0\n",
       "HasCrCard          0\n",
       "IsActiveMember     0\n",
       "EstimatedSalary    0\n",
       "Exited             0\n",
       "dtype: int64"
      ]
     },
     "execution_count": 6,
     "metadata": {},
     "output_type": "execute_result"
    }
   ],
   "source": [
    "df.isnull().sum()"
   ]
  },
  {
   "cell_type": "code",
   "execution_count": 7,
   "id": "6f292e0d",
   "metadata": {
    "execution": {
     "iopub.execute_input": "2023-10-20T06:29:19.990233Z",
     "iopub.status.busy": "2023-10-20T06:29:19.990009Z",
     "iopub.status.idle": "2023-10-20T06:29:19.995373Z",
     "shell.execute_reply": "2023-10-20T06:29:19.994642Z"
    },
    "id": "0SbrhH34bF5w",
    "outputId": "6220fe18-8786-43cd-e405-f929fe84a764",
    "papermill": {
     "duration": 0.014099,
     "end_time": "2023-10-20T06:29:19.997040",
     "exception": false,
     "start_time": "2023-10-20T06:29:19.982941",
     "status": "completed"
    },
    "tags": []
   },
   "outputs": [
    {
     "data": {
      "text/plain": [
       "Index(['rownumber', 'customerid', 'surname', 'creditscore', 'geography',\n",
       "       'gender', 'age', 'tenure', 'balance', 'numofproducts', 'hascrcard',\n",
       "       'isactivemember', 'estimatedsalary', 'exited'],\n",
       "      dtype='object')"
      ]
     },
     "execution_count": 7,
     "metadata": {},
     "output_type": "execute_result"
    }
   ],
   "source": [
    "df.columns=df.columns.str.lower()\n",
    "df.columns\n",
    "\n"
   ]
  },
  {
   "cell_type": "code",
   "execution_count": 8,
   "id": "672bd2f0",
   "metadata": {
    "execution": {
     "iopub.execute_input": "2023-10-20T06:29:20.010956Z",
     "iopub.status.busy": "2023-10-20T06:29:20.010739Z",
     "iopub.status.idle": "2023-10-20T06:29:20.250695Z",
     "shell.execute_reply": "2023-10-20T06:29:20.249980Z"
    },
    "id": "-dIR86uii9IR",
    "outputId": "626d9741-ce74-4e59-94b6-b5c6d378d13c",
    "papermill": {
     "duration": 0.248797,
     "end_time": "2023-10-20T06:29:20.252464",
     "exception": false,
     "start_time": "2023-10-20T06:29:20.003667",
     "status": "completed"
    },
    "tags": []
   },
   "outputs": [
    {
     "data": {
      "text/plain": [
       "<Axes: xlabel='exited', ylabel='count'>"
      ]
     },
     "execution_count": 8,
     "metadata": {},
     "output_type": "execute_result"
    },
    {
     "data": {
      "image/png": "[encoded data removed]",
      "text/plain": [
       "<Figure size 1000x500 with 1 Axes>"
      ]
     },
     "metadata": {},
     "output_type": "display_data"
    }
   ],
   "source": [
    "plt.figure(figsize=(10,5))\n",
    "sns.countplot(data=df,x='exited')"
   ]
  },
  {
   "cell_type": "code",
   "execution_count": 9,
   "id": "d5210ac1",
   "metadata": {
    "execution": {
     "iopub.execute_input": "2023-10-20T06:29:20.267562Z",
     "iopub.status.busy": "2023-10-20T06:29:20.267283Z",
     "iopub.status.idle": "2023-10-20T06:29:20.274465Z",
     "shell.execute_reply": "2023-10-20T06:29:20.273781Z"
    },
    "papermill": {
     "duration": 0.01668,
     "end_time": "2023-10-20T06:29:20.276111",
     "exception": false,
     "start_time": "2023-10-20T06:29:20.259431",
     "status": "completed"
    },
    "tags": []
   },
   "outputs": [],
   "source": [
    "X_train=df.drop([\"exited\"],axis=1)"
   ]
  },
  {
   "cell_type": "markdown",
   "id": "c44fb265",
   "metadata": {
    "id": "OTCpqGRe2a4C",
    "papermill": {
     "duration": 0.006526,
     "end_time": "2023-10-20T06:29:20.289353",
     "exception": false,
     "start_time": "2023-10-20T06:29:20.282827",
     "status": "completed"
    },
    "tags": []
   },
   "source": [
    "**Data Preprocecssing**"
   ]
  },
  {
   "cell_type": "code",
   "execution_count": 10,
   "id": "3444c412",
   "metadata": {
    "execution": {
     "iopub.execute_input": "2023-10-20T06:29:20.303631Z",
     "iopub.status.busy": "2023-10-20T06:29:20.303325Z",
     "iopub.status.idle": "2023-10-20T06:29:20.308315Z",
     "shell.execute_reply": "2023-10-20T06:29:20.307668Z"
    },
    "id": "rUv4a5bk6JN0",
    "papermill": {
     "duration": 0.014002,
     "end_time": "2023-10-20T06:29:20.309996",
     "exception": false,
     "start_time": "2023-10-20T06:29:20.295994",
     "status": "completed"
    },
    "tags": []
   },
   "outputs": [],
   "source": [
    "df1=df.drop([\"customerid\",\"rownumber\",\"surname\"],axis=1)"
   ]
  },
  {
   "cell_type": "code",
   "execution_count": 11,
   "id": "ae05a9ce",
   "metadata": {
    "execution": {
     "iopub.execute_input": "2023-10-20T06:29:20.324443Z",
     "iopub.status.busy": "2023-10-20T06:29:20.323930Z",
     "iopub.status.idle": "2023-10-20T06:29:20.429179Z",
     "shell.execute_reply": "2023-10-20T06:29:20.428141Z"
    },
    "id": "50IGz4gMxoe1",
    "outputId": "5f7a9f77-308b-422a-ddab-95bfb3d6ed8e",
    "papermill": {
     "duration": 0.114395,
     "end_time": "2023-10-20T06:29:20.431014",
     "exception": false,
     "start_time": "2023-10-20T06:29:20.316619",
     "status": "completed"
    },
    "tags": []
   },
   "outputs": [
    {
     "name": "stdout",
     "output_type": "stream",
     "text": [
      "len of train data 8000\n",
      "len of test data 2000\n"
     ]
    }
   ],
   "source": [
    "from sklearn.model_selection import train_test_split\n",
    "train_data,test_data=train_test_split(df1,test_size=0.2,random_state=21)\n",
    "print(\"len of train data\",len(train_data))\n",
    "print(\"len of test data\",len(test_data))"
   ]
  },
  {
   "cell_type": "code",
   "execution_count": 12,
   "id": "78877001",
   "metadata": {
    "execution": {
     "iopub.execute_input": "2023-10-20T06:29:20.446504Z",
     "iopub.status.busy": "2023-10-20T06:29:20.446286Z",
     "iopub.status.idle": "2023-10-20T06:29:20.452839Z",
     "shell.execute_reply": "2023-10-20T06:29:20.452083Z"
    },
    "id": "oOYgRZoI3f-T",
    "papermill": {
     "duration": 0.016237,
     "end_time": "2023-10-20T06:29:20.455042",
     "exception": false,
     "start_time": "2023-10-20T06:29:20.438805",
     "status": "completed"
    },
    "tags": []
   },
   "outputs": [],
   "source": [
    "#training data\n",
    "x_train=train_data.drop([\"exited\"],axis=1)\n",
    "y_train=train_data[\"exited\"]\n",
    "#testing data\n",
    "x_test=test_data.drop(\"exited\",axis=1)\n",
    "y_test=test_data[\"exited\"]"
   ]
  },
  {
   "cell_type": "markdown",
   "id": "f9b46681",
   "metadata": {
    "id": "QJtJH6YShr3y",
    "papermill": {
     "duration": 0.006684,
     "end_time": "2023-10-20T06:29:20.468883",
     "exception": false,
     "start_time": "2023-10-20T06:29:20.462199",
     "status": "completed"
    },
    "tags": []
   },
   "source": [
    "**pipeline creation**"
   ]
  },
  {
   "cell_type": "code",
   "execution_count": 13,
   "id": "102f74a4",
   "metadata": {
    "execution": {
     "iopub.execute_input": "2023-10-20T06:29:20.482971Z",
     "iopub.status.busy": "2023-10-20T06:29:20.482737Z",
     "iopub.status.idle": "2023-10-20T06:29:20.504206Z",
     "shell.execute_reply": "2023-10-20T06:29:20.503613Z"
    },
    "id": "ZmN26P274xVb",
    "papermill": {
     "duration": 0.030344,
     "end_time": "2023-10-20T06:29:20.505836",
     "exception": false,
     "start_time": "2023-10-20T06:29:20.475492",
     "status": "completed"
    },
    "tags": []
   },
   "outputs": [],
   "source": [
    "from sklearn.pipeline import Pipeline\n",
    "from sklearn.preprocessing import MinMaxScaler,OneHotEncoder\n",
    "num_feats=x_train.drop([\"gender\",\"geography\"],axis=1)\n",
    "num_feats_pipe=Pipeline([\n",
    "    (\"scaler\",MinMaxScaler())\n",
    "])\n",
    "num_feats_preprocessed=num_feats_pipe.fit_transform(num_feats)\n",
    "cat_feats=x_train[[\"gender\",\"geography\"]]\n",
    "cat_feats_pipe=Pipeline([\n",
    "    (\"encoder\",OneHotEncoder())\n",
    "])\n",
    "cat_feats_preprocessed=cat_feats_pipe.fit_transform(cat_feats)"
   ]
  },
  {
   "cell_type": "markdown",
   "id": "52f3219d",
   "metadata": {
    "id": "2ykt40_chw_v",
    "papermill": {
     "duration": 0.006601,
     "end_time": "2023-10-20T06:29:20.519036",
     "exception": false,
     "start_time": "2023-10-20T06:29:20.512435",
     "status": "completed"
    },
    "tags": []
   },
   "source": [
    "**final pipeline**"
   ]
  },
  {
   "cell_type": "code",
   "execution_count": 14,
   "id": "4d738e06",
   "metadata": {
    "execution": {
     "iopub.execute_input": "2023-10-20T06:29:20.533598Z",
     "iopub.status.busy": "2023-10-20T06:29:20.533330Z",
     "iopub.status.idle": "2023-10-20T06:29:20.568356Z",
     "shell.execute_reply": "2023-10-20T06:29:20.567406Z"
    },
    "id": "36oPOLjoW6g7",
    "outputId": "18e87bff-b5fa-4f9a-9e56-8457de70022d",
    "papermill": {
     "duration": 0.044149,
     "end_time": "2023-10-20T06:29:20.569957",
     "exception": false,
     "start_time": "2023-10-20T06:29:20.525808",
     "status": "completed"
    },
    "tags": []
   },
   "outputs": [
    {
     "data": {
      "text/plain": [
       "array([[0.486     , 0.18918919, 0.3       , ..., 1.        , 0.        ,\n",
       "        0.        ],\n",
       "       [0.394     , 0.17567568, 0.9       , ..., 0.        , 0.        ,\n",
       "        1.        ],\n",
       "       [0.94      , 0.24324324, 0.4       , ..., 1.        , 0.        ,\n",
       "        0.        ],\n",
       "       ...,\n",
       "       [0.596     , 0.5       , 0.1       , ..., 0.        , 0.        ,\n",
       "        1.        ],\n",
       "       [0.562     , 0.40540541, 0.1       , ..., 0.        , 1.        ,\n",
       "        0.        ],\n",
       "       [0.466     , 0.22972973, 0.8       , ..., 0.        , 1.        ,\n",
       "        0.        ]])"
      ]
     },
     "execution_count": 14,
     "metadata": {},
     "output_type": "execute_result"
    }
   ],
   "source": [
    "from sklearn.compose import ColumnTransformer\n",
    "num_list=list(num_feats)\n",
    "cat_list=list(cat_feats)\n",
    "final_pipeline=ColumnTransformer([\n",
    "    (\"num\",num_feats_pipe,num_list),\n",
    "     (\"cat\",cat_feats_pipe,cat_list)\n",
    "])\n",
    "x_train_preprocessed=final_pipeline.fit_transform(x_train)\n",
    "x_train_preprocessed\n",
    "x_test_preprocessed=final_pipeline.fit_transform(x_test)\n",
    "x_test_preprocessed"
   ]
  },
  {
   "cell_type": "markdown",
   "id": "c53596fa",
   "metadata": {
    "id": "2rb13AKUaM_G",
    "papermill": {
     "duration": 0.006427,
     "end_time": "2023-10-20T06:29:20.583438",
     "exception": false,
     "start_time": "2023-10-20T06:29:20.577011",
     "status": "completed"
    },
    "tags": []
   },
   "source": [
    "# Ml model"
   ]
  },
  {
   "cell_type": "markdown",
   "id": "1a51c220",
   "metadata": {
    "id": "ES662f9me5Dy",
    "papermill": {
     "duration": 0.006528,
     "end_time": "2023-10-20T06:29:20.596569",
     "exception": false,
     "start_time": "2023-10-20T06:29:20.590041",
     "status": "completed"
    },
    "tags": []
   },
   "source": [
    "# **random forest**"
   ]
  },
  {
   "cell_type": "code",
   "execution_count": 15,
   "id": "e85a5e70",
   "metadata": {
    "execution": {
     "iopub.execute_input": "2023-10-20T06:29:20.610885Z",
     "iopub.status.busy": "2023-10-20T06:29:20.610647Z",
     "iopub.status.idle": "2023-10-20T06:29:21.816436Z",
     "shell.execute_reply": "2023-10-20T06:29:21.815569Z"
    },
    "id": "Lq3_R1OhZ8kL",
    "papermill": {
     "duration": 1.21524,
     "end_time": "2023-10-20T06:29:21.818538",
     "exception": false,
     "start_time": "2023-10-20T06:29:20.603298",
     "status": "completed"
    },
    "tags": []
   },
   "outputs": [],
   "source": [
    "from sklearn.ensemble import RandomForestClassifier\n",
    "\n",
    "# Create a Random Forest classifier\n",
    "rf_model = RandomForestClassifier(n_estimators=100, random_state=21)\n",
    "\n",
    "# Train the model on your training data\n",
    "rf_model.fit(x_train_preprocessed,y_train)\n",
    "\n",
    "# Make predictions on your testing data\n",
    "y_test_pred_rf = rf_model.predict(x_test_preprocessed)\n",
    "\n"
   ]
  },
  {
   "cell_type": "code",
   "execution_count": 16,
   "id": "41de6a19",
   "metadata": {
    "execution": {
     "iopub.execute_input": "2023-10-20T06:29:21.875231Z",
     "iopub.status.busy": "2023-10-20T06:29:21.874931Z",
     "iopub.status.idle": "2023-10-20T06:29:22.010055Z",
     "shell.execute_reply": "2023-10-20T06:29:22.009115Z"
    },
    "id": "jEixhOHObEYp",
    "outputId": "26a99139-d7a7-45de-cd97-c7850eab6c4f",
    "papermill": {
     "duration": 0.145064,
     "end_time": "2023-10-20T06:29:22.012020",
     "exception": false,
     "start_time": "2023-10-20T06:29:21.866956",
     "status": "completed"
    },
    "tags": []
   },
   "outputs": [
    {
     "data": {
      "text/plain": [
       "array([0, 0, 0, ..., 0, 1, 0])"
      ]
     },
     "execution_count": 16,
     "metadata": {},
     "output_type": "execute_result"
    }
   ],
   "source": [
    "# Make predictions on your training data\n",
    "y_train_pred_rf = rf_model.predict(x_train_preprocessed)\n",
    "y_train_pred_rf\n",
    "y_test_pred_rf"
   ]
  },
  {
   "cell_type": "markdown",
   "id": "248d2943",
   "metadata": {
    "papermill": {
     "duration": 0.007447,
     "end_time": "2023-10-20T06:29:22.027507",
     "exception": false,
     "start_time": "2023-10-20T06:29:22.020060",
     "status": "completed"
    },
    "tags": []
   },
   "source": [
    "**F1 score of train and test**"
   ]
  },
  {
   "cell_type": "code",
   "execution_count": 17,
   "id": "d320fc33",
   "metadata": {
    "execution": {
     "iopub.execute_input": "2023-10-20T06:29:22.044056Z",
     "iopub.status.busy": "2023-10-20T06:29:22.043492Z",
     "iopub.status.idle": "2023-10-20T06:29:22.055215Z",
     "shell.execute_reply": "2023-10-20T06:29:22.054347Z"
    },
    "id": "cKP4Ao7Ma7KQ",
    "outputId": "6a6d48cf-a568-4fd7-99d7-efea4401e760",
    "papermill": {
     "duration": 0.021437,
     "end_time": "2023-10-20T06:29:22.056798",
     "exception": false,
     "start_time": "2023-10-20T06:29:22.035361",
     "status": "completed"
    },
    "tags": []
   },
   "outputs": [
    {
     "name": "stdout",
     "output_type": "stream",
     "text": [
      "F1 Score of train data: 0.9996944699052857\n",
      "F1 Score of test data: 0.5454545454545455\n"
     ]
    }
   ],
   "source": [
    "from sklearn.metrics import f1_score\n",
    "f1 = f1_score(y_train,y_train_pred_rf)\n",
    "print(\"F1 Score of train data:\", f1)\n",
    "\n",
    "f2 = f1_score(y_test,y_test_pred_rf)\n",
    "print(\"F1 Score of test data:\", f2)"
   ]
  },
  {
   "cell_type": "markdown",
   "id": "391d8236",
   "metadata": {
    "papermill": {
     "duration": 0.006748,
     "end_time": "2023-10-20T06:29:22.070452",
     "exception": false,
     "start_time": "2023-10-20T06:29:22.063704",
     "status": "completed"
    },
    "tags": []
   },
   "source": [
    "**Train Confusion matirx**"
   ]
  },
  {
   "cell_type": "code",
   "execution_count": 18,
   "id": "6eb82a11",
   "metadata": {
    "execution": {
     "iopub.execute_input": "2023-10-20T06:29:22.086069Z",
     "iopub.status.busy": "2023-10-20T06:29:22.085853Z",
     "iopub.status.idle": "2023-10-20T06:29:22.254507Z",
     "shell.execute_reply": "2023-10-20T06:29:22.253573Z"
    },
    "papermill": {
     "duration": 0.179347,
     "end_time": "2023-10-20T06:29:22.256982",
     "exception": false,
     "start_time": "2023-10-20T06:29:22.077635",
     "status": "completed"
    },
    "tags": []
   },
   "outputs": [
    {
     "data": {
      "image/png": "[encoded data removed]",
      "text/plain": [
       "<Figure size 600x400 with 1 Axes>"
      ]
     },
     "metadata": {},
     "output_type": "display_data"
    }
   ],
   "source": [
    "from sklearn.metrics import confusion_matrix\n",
    "\n",
    "# Compute the confusion matrix\n",
    "cm = confusion_matrix(y_train, y_train_pred_rf)\n",
    "\n",
    "# Create a heatmap to visualize the confusion matrix\n",
    "plt.figure(figsize=(6, 4))\n",
    "sns.heatmap(cm, annot=True, fmt=\"d\", cmap=\"Blues\", cbar=False)\n",
    "plt.xlabel(\"Predicted Labels \")\n",
    "plt.ylabel(\"True Labels \")\n",
    "plt.title(\" Train Confusion Matrix\")\n",
    "plt.show()\n"
   ]
  },
  {
   "cell_type": "markdown",
   "id": "93bd9ea6",
   "metadata": {
    "papermill": {
     "duration": 0.007375,
     "end_time": "2023-10-20T06:29:22.273448",
     "exception": false,
     "start_time": "2023-10-20T06:29:22.266073",
     "status": "completed"
    },
    "tags": []
   },
   "source": [
    "**Test confusion matirx**"
   ]
  },
  {
   "cell_type": "code",
   "execution_count": 19,
   "id": "e7a223b6",
   "metadata": {
    "execution": {
     "iopub.execute_input": "2023-10-20T06:29:22.288994Z",
     "iopub.status.busy": "2023-10-20T06:29:22.288755Z",
     "iopub.status.idle": "2023-10-20T06:29:22.453040Z",
     "shell.execute_reply": "2023-10-20T06:29:22.452092Z"
    },
    "papermill": {
     "duration": 0.174343,
     "end_time": "2023-10-20T06:29:22.455006",
     "exception": false,
     "start_time": "2023-10-20T06:29:22.280663",
     "status": "completed"
    },
    "tags": []
   },
   "outputs": [
    {
     "data": {
      "image/png": "[encoded data removed]",
      "text/plain": [
       "<Figure size 600x400 with 1 Axes>"
      ]
     },
     "metadata": {},
     "output_type": "display_data"
    }
   ],
   "source": [
    "from sklearn.metrics import confusion_matrix\n",
    "\n",
    "# Compute the confusion matrix\n",
    "cm = confusion_matrix(y_test, y_test_pred_rf)\n",
    "\n",
    "# Create a heatmap to visualize the confusion matrix\n",
    "plt.figure(figsize=(6, 4))\n",
    "sns.heatmap(cm, annot=True, fmt=\"d\", cmap=\"Blues\", cbar=False)\n",
    "plt.xlabel(\"Predicted Labels \")\n",
    "plt.ylabel(\"True Labels \")\n",
    "plt.title(\" Test Confusion Matrix\")\n",
    "plt.show()\n"
   ]
  },
  {
   "cell_type": "markdown",
   "id": "1272f001",
   "metadata": {
    "papermill": {
     "duration": 0.007668,
     "end_time": "2023-10-20T06:29:22.471222",
     "exception": false,
     "start_time": "2023-10-20T06:29:22.463554",
     "status": "completed"
    },
    "tags": []
   },
   "source": [
    " **Feature inportance**"
   ]
  },
  {
   "cell_type": "code",
   "execution_count": 20,
   "id": "b493fbd9",
   "metadata": {
    "execution": {
     "iopub.execute_input": "2023-10-20T06:29:22.487454Z",
     "iopub.status.busy": "2023-10-20T06:29:22.487203Z",
     "iopub.status.idle": "2023-10-20T06:29:22.500260Z",
     "shell.execute_reply": "2023-10-20T06:29:22.499588Z"
    },
    "id": "pIgfveiR7NF2",
    "outputId": "37a2b866-014f-45ae-c3c7-576d90d4bd5e",
    "papermill": {
     "duration": 0.022885,
     "end_time": "2023-10-20T06:29:22.501944",
     "exception": false,
     "start_time": "2023-10-20T06:29:22.479059",
     "status": "completed"
    },
    "tags": []
   },
   "outputs": [
    {
     "name": "stdout",
     "output_type": "stream",
     "text": [
      "13\n",
      "13\n"
     ]
    }
   ],
   "source": [
    "feature_importances =rf_model.feature_importances_\n",
    "print(len(X_train.columns))\n",
    "print(len(feature_importances))\n",
    "# Create a DataFrame to associate features with their importances\n",
    "feature_importance_df = pd.DataFrame({'Feature': X_train.columns, 'Importance': feature_importances})\n",
    "\n",
    "# Sort the features by importance in descending order\n",
    "feature_importance_df = feature_importance_df.sort_values(by='Importance', ascending=False)"
   ]
  },
  {
   "cell_type": "code",
   "execution_count": 21,
   "id": "d9b43295",
   "metadata": {
    "execution": {
     "iopub.execute_input": "2023-10-20T06:29:22.525429Z",
     "iopub.status.busy": "2023-10-20T06:29:22.525207Z",
     "iopub.status.idle": "2023-10-20T06:29:22.531736Z",
     "shell.execute_reply": "2023-10-20T06:29:22.530582Z"
    },
    "id": "fE2jOGzJHmDn",
    "outputId": "1c3834f3-7a24-47e3-f6d7-533052815ee5",
    "papermill": {
     "duration": 0.023556,
     "end_time": "2023-10-20T06:29:22.534246",
     "exception": false,
     "start_time": "2023-10-20T06:29:22.510690",
     "status": "completed"
    },
    "tags": []
   },
   "outputs": [
    {
     "name": "stdout",
     "output_type": "stream",
     "text": [
      "Top 14 Features:\n",
      "            Feature  Importance\n",
      "1        customerid    0.245455\n",
      "0         rownumber    0.144092\n",
      "7            tenure    0.144072\n",
      "3       creditscore    0.140353\n",
      "4         geography    0.124076\n",
      "2           surname    0.084575\n",
      "6               age    0.038108\n",
      "11   isactivemember    0.021190\n",
      "5            gender    0.018669\n",
      "10        hascrcard    0.011033\n",
      "12  estimatedsalary    0.009930\n",
      "9     numofproducts    0.009663\n",
      "8           balance    0.008784\n"
     ]
    }
   ],
   "source": [
    "top_n = 14\n",
    "print(f\"Top {top_n} Features:\")\n",
    "print(feature_importance_df.head(top_n))"
   ]
  },
  {
   "cell_type": "markdown",
   "id": "e1459be7",
   "metadata": {
    "papermill": {
     "duration": 0.010078,
     "end_time": "2023-10-20T06:29:22.552282",
     "exception": false,
     "start_time": "2023-10-20T06:29:22.542204",
     "status": "completed"
    },
    "tags": []
   },
   "source": [
    "**Graph of important features**"
   ]
  },
  {
   "cell_type": "code",
   "execution_count": 22,
   "id": "5528b2a5",
   "metadata": {
    "execution": {
     "iopub.execute_input": "2023-10-20T06:29:22.571465Z",
     "iopub.status.busy": "2023-10-20T06:29:22.570899Z",
     "iopub.status.idle": "2023-10-20T06:29:22.839051Z",
     "shell.execute_reply": "2023-10-20T06:29:22.837731Z"
    },
    "id": "PFakaW8z7e0X",
    "outputId": "7c47667d-8bac-481b-cfa5-a1521ce7892f",
    "papermill": {
     "duration": 0.28112,
     "end_time": "2023-10-20T06:29:22.841205",
     "exception": false,
     "start_time": "2023-10-20T06:29:22.560085",
     "status": "completed"
    },
    "tags": []
   },
   "outputs": [
    {
     "data": {
      "image/png": "[encoded data removed]",
      "text/plain": [
       "<Figure size 700x400 with 1 Axes>"
      ]
     },
     "metadata": {},
     "output_type": "display_data"
    }
   ],
   "source": [
    "# Visualize feature importances\n",
    "import matplotlib.pyplot as plt\n",
    "\n",
    "plt.figure(figsize=(7, 4))\n",
    "plt.barh(feature_importance_df['Feature'][:top_n], feature_importance_df['Importance'][:top_n])\n",
    "plt.xlabel('Importance')\n",
    "plt.ylabel('Feature')\n",
    "plt.title('Top Feature Importances')\n",
    "plt.gca().invert_yaxis()  # Invert y-axis for better visualization\n",
    "plt.show()"
   ]
  },
  {
   "cell_type": "markdown",
   "id": "bf6bf822",
   "metadata": {
    "id": "c4djMVQteygw",
    "papermill": {
     "duration": 0.008263,
     "end_time": "2023-10-20T06:29:22.858069",
     "exception": false,
     "start_time": "2023-10-20T06:29:22.849806",
     "status": "completed"
    },
    "tags": []
   },
   "source": [
    "# **logistic regression**"
   ]
  },
  {
   "cell_type": "code",
   "execution_count": 23,
   "id": "110fcb91",
   "metadata": {
    "execution": {
     "iopub.execute_input": "2023-10-20T06:29:22.875030Z",
     "iopub.status.busy": "2023-10-20T06:29:22.874774Z",
     "iopub.status.idle": "2023-10-20T06:29:22.975160Z",
     "shell.execute_reply": "2023-10-20T06:29:22.973834Z"
    },
    "id": "2GjZJSNQbKso",
    "outputId": "408de174-3363-4d94-8990-5b6a14e2ac6f",
    "papermill": {
     "duration": 0.123941,
     "end_time": "2023-10-20T06:29:22.989938",
     "exception": false,
     "start_time": "2023-10-20T06:29:22.865997",
     "status": "completed"
    },
    "tags": []
   },
   "outputs": [
    {
     "data": {
      "text/html": [
       "<style>#sk-container-id-1 {color: black;background-color: white;}#sk-container-id-1 pre{padding: 0;}#sk-container-id-1 div.sk-toggleable {background-color: white;}#sk-container-id-1 label.sk-toggleable__label {cursor: pointer;display: block;width: 100%;margin-bottom: 0;padding: 0.3em;box-sizing: border-box;text-align: center;}#sk-container-id-1 label.sk-toggleable__label-arrow:before {content: \"▸\";float: left;margin-right: 0.25em;color: #696969;}#sk-container-id-1 label.sk-toggleable__label-arrow:hover:before {color: black;}#sk-container-id-1 div.sk-estimator:hover label.sk-toggleable__label-arrow:before {color: black;}#sk-container-id-1 div.sk-toggleable__content {max-height: 0;max-width: 0;overflow: hidden;text-align: left;background-color: #f0f8ff;}#sk-container-id-1 div.sk-toggleable__content pre {margin: 0.2em;color: black;border-radius: 0.25em;background-color: #f0f8ff;}#sk-container-id-1 input.sk-toggleable__control:checked~div.sk-toggleable__content {max-height: 200px;max-width: 100%;overflow: auto;}#sk-container-id-1 input.sk-toggleable__control:checked~label.sk-toggleable__label-arrow:before {content: \"▾\";}#sk-container-id-1 div.sk-estimator input.sk-toggleable__control:checked~label.sk-toggleable__label {background-color: #d4ebff;}#sk-container-id-1 div.sk-label input.sk-toggleable__control:checked~label.sk-toggleable__label {background-color: #d4ebff;}#sk-container-id-1 input.sk-hidden--visually {border: 0;clip: rect(1px 1px 1px 1px);clip: rect(1px, 1px, 1px, 1px);height: 1px;margin: -1px;overflow: hidden;padding: 0;position: absolute;width: 1px;}#sk-container-id-1 div.sk-estimator {font-family: monospace;background-color: #f0f8ff;border: 1px dotted black;border-radius: 0.25em;box-sizing: border-box;margin-bottom: 0.5em;}#sk-container-id-1 div.sk-estimator:hover {background-color: #d4ebff;}#sk-container-id-1 div.sk-parallel-item::after {content: \"\";width: 100%;border-bottom: 1px solid gray;flex-grow: 1;}#sk-container-id-1 div.sk-label:hover label.sk-toggleable__label {background-color: #d4ebff;}#sk-container-id-1 div.sk-serial::before {content: \"\";position: absolute;border-left: 1px solid gray;box-sizing: border-box;top: 0;bottom: 0;left: 50%;z-index: 0;}#sk-container-id-1 div.sk-serial {display: flex;flex-direction: column;align-items: center;background-color: white;padding-right: 0.2em;padding-left: 0.2em;position: relative;}#sk-container-id-1 div.sk-item {position: relative;z-index: 1;}#sk-container-id-1 div.sk-parallel {display: flex;align-items: stretch;justify-content: center;background-color: white;position: relative;}#sk-container-id-1 div.sk-item::before, #sk-container-id-1 div.sk-parallel-item::before {content: \"\";position: absolute;border-left: 1px solid gray;box-sizing: border-box;top: 0;bottom: 0;left: 50%;z-index: -1;}#sk-container-id-1 div.sk-parallel-item {display: flex;flex-direction: column;z-index: 1;position: relative;background-color: white;}#sk-container-id-1 div.sk-parallel-item:first-child::after {align-self: flex-end;width: 50%;}#sk-container-id-1 div.sk-parallel-item:last-child::after {align-self: flex-start;width: 50%;}#sk-container-id-1 div.sk-parallel-item:only-child::after {width: 0;}#sk-container-id-1 div.sk-dashed-wrapped {border: 1px dashed gray;margin: 0 0.4em 0.5em 0.4em;box-sizing: border-box;padding-bottom: 0.4em;background-color: white;}#sk-container-id-1 div.sk-label label {font-family: monospace;font-weight: bold;display: inline-block;line-height: 1.2em;}#sk-container-id-1 div.sk-label-container {text-align: center;}#sk-container-id-1 div.sk-container {/* jupyter's `normalize.less` sets `[hidden] { display: none; }` but bootstrap.min.css set `[hidden] { display: none !important; }` so we also need the `!important` here to be able to override the default hidden behavior on the sphinx rendered scikit-learn.org. See: https://github.com/scikit-learn/scikit-learn/issues/21755 */display: inline-block !important;position: relative;}#sk-container-id-1 div.sk-text-repr-fallback {display: none;}</style><div id=\"sk-container-id-1\" class=\"sk-top-container\"><div class=\"sk-text-repr-fallback\"><pre>LogisticRegression()</pre><b>In a Jupyter environment, please rerun this cell to show the HTML representation or trust the notebook. <br />On GitHub, the HTML representation is unable to render, please try loading this page with nbviewer.org.</b></div><div class=\"sk-container\" hidden><div class=\"sk-item\"><div class=\"sk-estimator sk-toggleable\"><input class=\"sk-toggleable__control sk-hidden--visually\" id=\"sk-estimator-id-1\" type=\"checkbox\" checked><label for=\"sk-estimator-id-1\" class=\"sk-toggleable__label sk-toggleable__label-arrow\">LogisticRegression</label><div class=\"sk-toggleable__content\"><pre>LogisticRegression()</pre></div></div></div></div></div>"
      ],
      "text/plain": [
       "LogisticRegression()"
      ]
     },
     "execution_count": 23,
     "metadata": {},
     "output_type": "execute_result"
    }
   ],
   "source": [
    "from sklearn.linear_model import LogisticRegression\n",
    "lg_model=LogisticRegression()\n",
    "\n",
    "# Train the model on your training data\n",
    "lg_model.fit(x_train_preprocessed,y_train)\n"
   ]
  },
  {
   "cell_type": "code",
   "execution_count": 24,
   "id": "a684b79b",
   "metadata": {
    "execution": {
     "iopub.execute_input": "2023-10-20T06:29:23.051767Z",
     "iopub.status.busy": "2023-10-20T06:29:23.050435Z",
     "iopub.status.idle": "2023-10-20T06:29:23.060960Z",
     "shell.execute_reply": "2023-10-20T06:29:23.058799Z"
    },
    "id": "MAj0UtcWd4bY",
    "papermill": {
     "duration": 0.043537,
     "end_time": "2023-10-20T06:29:23.064221",
     "exception": false,
     "start_time": "2023-10-20T06:29:23.020684",
     "status": "completed"
    },
    "tags": []
   },
   "outputs": [],
   "source": [
    "# Make predictions on your training data\n",
    "y_train_pred_lg = lg_model.predict(x_train_preprocessed)\n",
    "# Make predictions on your testing data\n",
    "y_test_pred_lg = lg_model.predict(x_test_preprocessed)"
   ]
  },
  {
   "cell_type": "markdown",
   "id": "4dffea44",
   "metadata": {
    "papermill": {
     "duration": 0.037597,
     "end_time": "2023-10-20T06:29:23.129993",
     "exception": false,
     "start_time": "2023-10-20T06:29:23.092396",
     "status": "completed"
    },
    "tags": []
   },
   "source": [
    "**F1 score of Train and Test**"
   ]
  },
  {
   "cell_type": "code",
   "execution_count": 25,
   "id": "cdc84204",
   "metadata": {
    "execution": {
     "iopub.execute_input": "2023-10-20T06:29:23.201582Z",
     "iopub.status.busy": "2023-10-20T06:29:23.201147Z",
     "iopub.status.idle": "2023-10-20T06:29:23.216805Z",
     "shell.execute_reply": "2023-10-20T06:29:23.215879Z"
    },
    "id": "c5uMfsU7eMpb",
    "outputId": "750d90bd-88ae-45a0-9909-81914a9c9212",
    "papermill": {
     "duration": 0.035437,
     "end_time": "2023-10-20T06:29:23.218467",
     "exception": false,
     "start_time": "2023-10-20T06:29:23.183030",
     "status": "completed"
    },
    "tags": []
   },
   "outputs": [
    {
     "name": "stdout",
     "output_type": "stream",
     "text": [
      "F1 Score of train data: 0.32310469314079426\n",
      "F1 Score of test data: 0.29840142095914746\n"
     ]
    }
   ],
   "source": [
    "from sklearn.metrics import f1_score\n",
    "\n",
    "\n",
    "f1 = f1_score(y_train,y_train_pred_lg)\n",
    "print(\"F1 Score of train data:\", f1)\n",
    "\n",
    "f2 = f1_score(y_test,y_test_pred_lg)\n",
    "print(\"F1 Score of test data:\", f2)"
   ]
  },
  {
   "cell_type": "markdown",
   "id": "2b9257fe",
   "metadata": {
    "papermill": {
     "duration": 0.00894,
     "end_time": "2023-10-20T06:29:23.237440",
     "exception": false,
     "start_time": "2023-10-20T06:29:23.228500",
     "status": "completed"
    },
    "tags": []
   },
   "source": [
    "**Train confusion matrix**"
   ]
  },
  {
   "cell_type": "code",
   "execution_count": 26,
   "id": "524a0c11",
   "metadata": {
    "execution": {
     "iopub.execute_input": "2023-10-20T06:29:23.256144Z",
     "iopub.status.busy": "2023-10-20T06:29:23.255901Z",
     "iopub.status.idle": "2023-10-20T06:29:23.421508Z",
     "shell.execute_reply": "2023-10-20T06:29:23.420651Z"
    },
    "id": "tHWI9-tiekm3",
    "papermill": {
     "duration": 0.177057,
     "end_time": "2023-10-20T06:29:23.423256",
     "exception": false,
     "start_time": "2023-10-20T06:29:23.246199",
     "status": "completed"
    },
    "tags": []
   },
   "outputs": [
    {
     "data": {
      "image/png": "[encoded data removed]",
      "text/plain": [
       "<Figure size 600x400 with 1 Axes>"
      ]
     },
     "metadata": {},
     "output_type": "display_data"
    }
   ],
   "source": [
    "from sklearn.metrics import confusion_matrix\n",
    "\n",
    "# Compute the confusion matrix\n",
    "cm = confusion_matrix(y_train, y_train_pred_lg)\n",
    "\n",
    "# Create a heatmap to visualize the confusion matrix\n",
    "plt.figure(figsize=(6, 4))\n",
    "sns.heatmap(cm, annot=True, fmt=\"d\", cmap=\"Blues\", cbar=False)\n",
    "plt.xlabel(\"Predicted Labels \")\n",
    "plt.ylabel(\"True Labels \")\n",
    "plt.title(\" Train Confusion Matrix\")\n",
    "plt.show()\n"
   ]
  },
  {
   "cell_type": "markdown",
   "id": "6a932bbd",
   "metadata": {
    "papermill": {
     "duration": 0.008877,
     "end_time": "2023-10-20T06:29:23.440957",
     "exception": false,
     "start_time": "2023-10-20T06:29:23.432080",
     "status": "completed"
    },
    "tags": []
   },
   "source": [
    "**Test confusion matirx**"
   ]
  },
  {
   "cell_type": "code",
   "execution_count": 27,
   "id": "99ca5187",
   "metadata": {
    "execution": {
     "iopub.execute_input": "2023-10-20T06:29:23.459619Z",
     "iopub.status.busy": "2023-10-20T06:29:23.458810Z",
     "iopub.status.idle": "2023-10-20T06:29:23.622882Z",
     "shell.execute_reply": "2023-10-20T06:29:23.622140Z"
    },
    "papermill": {
     "duration": 0.17498,
     "end_time": "2023-10-20T06:29:23.624463",
     "exception": false,
     "start_time": "2023-10-20T06:29:23.449483",
     "status": "completed"
    },
    "tags": []
   },
   "outputs": [
    {
     "data": {
      "image/png": "[encoded data removed]",
      "text/plain": [
       "<Figure size 600x400 with 1 Axes>"
      ]
     },
     "metadata": {},
     "output_type": "display_data"
    }
   ],
   "source": [
    "from sklearn.metrics import confusion_matrix\n",
    "\n",
    "# Compute the confusion matrix\n",
    "cm = confusion_matrix(y_test, y_test_pred_lg)\n",
    "\n",
    "# Create a heatmap to visualize the confusion matrix\n",
    "plt.figure(figsize=(6, 4))\n",
    "sns.heatmap(cm, annot=True, fmt=\"d\", cmap=\"Blues\", cbar=False)\n",
    "plt.xlabel(\"Predicted Labels \")\n",
    "plt.ylabel(\"True Labels \")\n",
    "plt.title(\" Test Confusion Matrix\")\n",
    "plt.show()\n"
   ]
  }
 ],
 "metadata": {
  "kernelspec": {
   "display_name": "Python 3",
   "language": "python",
   "name": "python3"
  },
  "language_info": {
   "codemirror_mode": {
    "name": "ipython",
    "version": 3
   },
   "file_extension": ".py",
   "mimetype": "text/x-python",
   "name": "python",
   "nbconvert_exporter": "python",
   "pygments_lexer": "ipython3",
   "version": "3.10.12"
  },
  "papermill": {
   "default_parameters": {},
   "duration": 8.936477,
   "end_time": "2023-10-20T06:29:24.051110",
   "environment_variables": {},
   "exception": null,
   "input_path": "__notebook__.ipynb",
   "output_path": "__notebook__.ipynb",
   "parameters": {},
   "start_time": "2023-10-20T06:29:15.114633",
   "version": "2.4.0"
  }
 },
 "nbformat": 4,
 "nbformat_minor": 5
}
